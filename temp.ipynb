{
 "cells": [
  {
   "cell_type": "code",
   "execution_count": null,
   "metadata": {
    "vscode": {
     "languageId": "plaintext"
    }
   },
   "outputs": [],
   "source": [
    "pip install chromadb\n",
    "pip install tiktoken"
   ]
  },
  {
   "cell_type": "code",
   "execution_count": null,
   "metadata": {
    "vscode": {
     "languageId": "plaintext"
    }
   },
   "outputs": [],
   "source": [
    "from langchain_community.chat_models import ChatOllama\n",
    "from langchain_core.prompts import PromptTemplate\n",
    "from langchain_core.prompts import FewShotPromptTemplate\n",
    "from langchain_core.example_selectors import SemanticSimilarityExampleSelector"
   ]
  },
  {
   "cell_type": "code",
   "execution_count": null,
   "metadata": {
    "vscode": {
     "languageId": "plaintext"
    }
   },
   "outputs": [],
   "source": [
    "examples=[\n",
    "    {\"input\":\"实现一个简单的排序算法，使用Python语言。\",\n",
    "     \"output\":\"首先，我们可以考虑使用冒泡排序或快速排序。你可以从定义一个函数开始，接着考虑如何遍历列表并进行比较。请思考如何交换元素的位置，并确保你的代码能够处理空列表的情况。\"},\n",
    "    {\"input\":\"创建一个简单的计算器\",\n",
    "      \"output\":\"你可以从定义一个函数开始，接着考虑如何接收用户输入的两个数字和操作符。思考如何使用条件语句来执行不同的运算，并确保处理无效输入的情况。\"},\n",
    "    {\"input\":\"编写一个程序来查找字符串中的最长回文子串\",\n",
    "      \"output\":\"首先，考虑如何遍历字符串并检查每个子串。你可以使用双指针的方法来优化查找过程。请思考如何记录最长的回文长度，并确保你的代码能够处理边界情况，如空字符串。\"},\n",
    "]"
   ]
  },
  {
   "cell_type": "code",
   "execution_count": null,
   "metadata": {
    "vscode": {
     "languageId": "plaintext"
    }
   },
   "outputs": [],
   "source": [
    "from langchain_community.embeddings.openai import OpenAIEmbeddings\n",
    "from langchain.vectorstores import Chroma\n",
    "\n",
    "example_prompt=PromptTemplate(\n",
    "    input_variables=[\"input\",\"output\"],\n",
    "    template=\"Input:{input}\\nOutput:{output}\",\n",
    ")\n",
    "\n",
    "example_selector=SemanticSimilarityExampleSelector.from_examples(\n",
    "    examples,\n",
    "    OpenAIEmbeddings(),\n",
    "    Chroma,\n",
    "    k=1,\n",
    ")\n",
    "\n",
    "similar_prompt=FewShotPromptTemplate(\n",
    "    example_selector=example_selector,\n",
    "    example_prompt=example_prompt,\n",
    "    prefix=\"\"\"请扮演一位资深的编程教练，您将负责为学生仔细分析程序题目，确保理解其需求和目标。\n",
    "        引导学生逐步构建代码，编程语言为python。\n",
    "        提供大致的代码结构建议，鼓励学生一步步思考代码的逻辑流程，确保不直接给出具体的思路，帮助他们识别潜在的错误和优化点。\n",
    "        根据题目分析涉及的知识点，如算法或语言结构，并对知识点进行详细讲解，比如通过举例或使用伪代码构建算法框架。\n",
    "        在学生完成代码后，提供反馈和建议，帮助他们进一步改进代码质量。\"\"\",\n",
    "    suffix=\"Input:{question}\\nOutput\\n\\n\",\n",
    "    input_variables=[\"question\"],\n",
    ")"
   ]
  }
 ],
 "metadata": {
  "language_info": {
   "name": "python"
  }
 },
 "nbformat": 4,
 "nbformat_minor": 2
}
