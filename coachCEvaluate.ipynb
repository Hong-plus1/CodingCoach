{
 "cells": [
  {
   "cell_type": "code",
   "execution_count": 1,
   "metadata": {},
   "outputs": [
    {
     "name": "stdout",
     "output_type": "stream",
     "text": [
      "Looking in indexes: https://pypi.tuna.tsinghua.edu.cn/simple/\n",
      "Requirement already satisfied: langchain in d:\\毕业论文\\codecoach\\.conda\\lib\\site-packages (0.3.14)\n",
      "Requirement already satisfied: langchain-core in d:\\毕业论文\\codecoach\\.conda\\lib\\site-packages (0.3.30)\n",
      "Requirement already satisfied: langchain-community in d:\\毕业论文\\codecoach\\.conda\\lib\\site-packages (0.3.14)\n",
      "Requirement already satisfied: PyYAML>=5.3 in d:\\毕业论文\\codecoach\\.conda\\lib\\site-packages (from langchain) (6.0.2)\n",
      "Requirement already satisfied: SQLAlchemy<3,>=1.4 in d:\\毕业论文\\codecoach\\.conda\\lib\\site-packages (from langchain) (2.0.37)\n",
      "Requirement already satisfied: aiohttp<4.0.0,>=3.8.3 in d:\\毕业论文\\codecoach\\.conda\\lib\\site-packages (from langchain) (3.11.11)\n",
      "Requirement already satisfied: langchain-text-splitters<0.4.0,>=0.3.3 in d:\\毕业论文\\codecoach\\.conda\\lib\\site-packages (from langchain) (0.3.5)\n",
      "Requirement already satisfied: langsmith<0.3,>=0.1.17 in d:\\毕业论文\\codecoach\\.conda\\lib\\site-packages (from langchain) (0.2.11)\n",
      "Requirement already satisfied: numpy<2,>=1.22.4 in d:\\毕业论文\\codecoach\\.conda\\lib\\site-packages (from langchain) (1.26.4)\n",
      "Requirement already satisfied: pydantic<3.0.0,>=2.7.4 in d:\\毕业论文\\codecoach\\.conda\\lib\\site-packages (from langchain) (2.10.5)\n",
      "Requirement already satisfied: requests<3,>=2 in d:\\毕业论文\\codecoach\\.conda\\lib\\site-packages (from langchain) (2.32.3)\n",
      "Requirement already satisfied: tenacity!=8.4.0,<10,>=8.1.0 in d:\\毕业论文\\codecoach\\.conda\\lib\\site-packages (from langchain) (9.0.0)\n",
      "Requirement already satisfied: jsonpatch<2.0,>=1.33 in d:\\毕业论文\\codecoach\\.conda\\lib\\site-packages (from langchain-core) (1.33)\n",
      "Requirement already satisfied: packaging<25,>=23.2 in d:\\毕业论文\\codecoach\\.conda\\lib\\site-packages (from langchain-core) (24.2)\n",
      "Requirement already satisfied: typing-extensions>=4.7 in d:\\毕业论文\\codecoach\\.conda\\lib\\site-packages (from langchain-core) (4.12.2)\n",
      "Requirement already satisfied: dataclasses-json<0.7,>=0.5.7 in d:\\毕业论文\\codecoach\\.conda\\lib\\site-packages (from langchain-community) (0.6.7)\n",
      "Requirement already satisfied: httpx-sse<0.5.0,>=0.4.0 in d:\\毕业论文\\codecoach\\.conda\\lib\\site-packages (from langchain-community) (0.4.0)\n",
      "Requirement already satisfied: pydantic-settings<3.0.0,>=2.4.0 in d:\\毕业论文\\codecoach\\.conda\\lib\\site-packages (from langchain-community) (2.7.1)\n",
      "Requirement already satisfied: aiohappyeyeballs>=2.3.0 in d:\\毕业论文\\codecoach\\.conda\\lib\\site-packages (from aiohttp<4.0.0,>=3.8.3->langchain) (2.4.4)\n",
      "Requirement already satisfied: aiosignal>=1.1.2 in d:\\毕业论文\\codecoach\\.conda\\lib\\site-packages (from aiohttp<4.0.0,>=3.8.3->langchain) (1.3.2)\n",
      "Requirement already satisfied: attrs>=17.3.0 in d:\\毕业论文\\codecoach\\.conda\\lib\\site-packages (from aiohttp<4.0.0,>=3.8.3->langchain) (24.3.0)\n",
      "Requirement already satisfied: frozenlist>=1.1.1 in d:\\毕业论文\\codecoach\\.conda\\lib\\site-packages (from aiohttp<4.0.0,>=3.8.3->langchain) (1.5.0)\n",
      "Requirement already satisfied: multidict<7.0,>=4.5 in d:\\毕业论文\\codecoach\\.conda\\lib\\site-packages (from aiohttp<4.0.0,>=3.8.3->langchain) (6.1.0)\n",
      "Requirement already satisfied: propcache>=0.2.0 in d:\\毕业论文\\codecoach\\.conda\\lib\\site-packages (from aiohttp<4.0.0,>=3.8.3->langchain) (0.2.1)\n",
      "Requirement already satisfied: yarl<2.0,>=1.17.0 in d:\\毕业论文\\codecoach\\.conda\\lib\\site-packages (from aiohttp<4.0.0,>=3.8.3->langchain) (1.18.3)\n",
      "Requirement already satisfied: marshmallow<4.0.0,>=3.18.0 in d:\\毕业论文\\codecoach\\.conda\\lib\\site-packages (from dataclasses-json<0.7,>=0.5.7->langchain-community) (3.25.1)\n",
      "Requirement already satisfied: typing-inspect<1,>=0.4.0 in d:\\毕业论文\\codecoach\\.conda\\lib\\site-packages (from dataclasses-json<0.7,>=0.5.7->langchain-community) (0.9.0)\n",
      "Requirement already satisfied: jsonpointer>=1.9 in d:\\毕业论文\\codecoach\\.conda\\lib\\site-packages (from jsonpatch<2.0,>=1.33->langchain-core) (3.0.0)\n",
      "Requirement already satisfied: httpx<1,>=0.23.0 in d:\\毕业论文\\codecoach\\.conda\\lib\\site-packages (from langsmith<0.3,>=0.1.17->langchain) (0.28.1)\n",
      "Requirement already satisfied: orjson<4.0.0,>=3.9.14 in d:\\毕业论文\\codecoach\\.conda\\lib\\site-packages (from langsmith<0.3,>=0.1.17->langchain) (3.10.14)\n",
      "Requirement already satisfied: requests-toolbelt<2.0.0,>=1.0.0 in d:\\毕业论文\\codecoach\\.conda\\lib\\site-packages (from langsmith<0.3,>=0.1.17->langchain) (1.0.0)\n",
      "Requirement already satisfied: annotated-types>=0.6.0 in d:\\毕业论文\\codecoach\\.conda\\lib\\site-packages (from pydantic<3.0.0,>=2.7.4->langchain) (0.7.0)\n",
      "Requirement already satisfied: pydantic-core==2.27.2 in d:\\毕业论文\\codecoach\\.conda\\lib\\site-packages (from pydantic<3.0.0,>=2.7.4->langchain) (2.27.2)\n",
      "Requirement already satisfied: python-dotenv>=0.21.0 in d:\\毕业论文\\codecoach\\.conda\\lib\\site-packages (from pydantic-settings<3.0.0,>=2.4.0->langchain-community) (1.0.1)\n",
      "Requirement already satisfied: charset-normalizer<4,>=2 in d:\\毕业论文\\codecoach\\.conda\\lib\\site-packages (from requests<3,>=2->langchain) (3.4.1)\n",
      "Requirement already satisfied: idna<4,>=2.5 in d:\\毕业论文\\codecoach\\.conda\\lib\\site-packages (from requests<3,>=2->langchain) (3.10)\n",
      "Requirement already satisfied: urllib3<3,>=1.21.1 in d:\\毕业论文\\codecoach\\.conda\\lib\\site-packages (from requests<3,>=2->langchain) (2.3.0)\n",
      "Requirement already satisfied: certifi>=2017.4.17 in d:\\毕业论文\\codecoach\\.conda\\lib\\site-packages (from requests<3,>=2->langchain) (2024.12.14)\n",
      "Requirement already satisfied: greenlet!=0.4.17 in d:\\毕业论文\\codecoach\\.conda\\lib\\site-packages (from SQLAlchemy<3,>=1.4->langchain) (3.1.1)\n",
      "Requirement already satisfied: anyio in d:\\毕业论文\\codecoach\\.conda\\lib\\site-packages (from httpx<1,>=0.23.0->langsmith<0.3,>=0.1.17->langchain) (4.8.0)\n",
      "Requirement already satisfied: httpcore==1.* in d:\\毕业论文\\codecoach\\.conda\\lib\\site-packages (from httpx<1,>=0.23.0->langsmith<0.3,>=0.1.17->langchain) (1.0.7)\n",
      "Requirement already satisfied: h11<0.15,>=0.13 in d:\\毕业论文\\codecoach\\.conda\\lib\\site-packages (from httpcore==1.*->httpx<1,>=0.23.0->langsmith<0.3,>=0.1.17->langchain) (0.14.0)\n",
      "Requirement already satisfied: mypy-extensions>=0.3.0 in d:\\毕业论文\\codecoach\\.conda\\lib\\site-packages (from typing-inspect<1,>=0.4.0->dataclasses-json<0.7,>=0.5.7->langchain-community) (1.0.0)\n",
      "Requirement already satisfied: sniffio>=1.1 in d:\\毕业论文\\codecoach\\.conda\\lib\\site-packages (from anyio->httpx<1,>=0.23.0->langsmith<0.3,>=0.1.17->langchain) (1.3.1)\n",
      "Note: you may need to restart the kernel to use updated packages.\n",
      "Looking in indexes: https://pypi.tuna.tsinghua.edu.cn/simple/\n",
      "Requirement already satisfied: python-dotenv in d:\\毕业论文\\codecoach\\.conda\\lib\\site-packages (1.0.1)\n",
      "Note: you may need to restart the kernel to use updated packages.\n",
      "Looking in indexes: https://pypi.tuna.tsinghua.edu.cn/simple/Note: you may need to restart the kernel to use updated packages.\n",
      "\n",
      "Requirement already satisfied: langchain_openai in d:\\毕业论文\\codecoach\\.conda\\lib\\site-packages (0.3.0)\n",
      "Requirement already satisfied: langchain-core<0.4.0,>=0.3.29 in d:\\毕业论文\\codecoach\\.conda\\lib\\site-packages (from langchain_openai) (0.3.30)\n",
      "Requirement already satisfied: openai<2.0.0,>=1.58.1 in d:\\毕业论文\\codecoach\\.conda\\lib\\site-packages (from langchain_openai) (1.59.8)\n",
      "Requirement already satisfied: tiktoken<1,>=0.7 in d:\\毕业论文\\codecoach\\.conda\\lib\\site-packages (from langchain_openai) (0.8.0)\n",
      "Requirement already satisfied: PyYAML>=5.3 in d:\\毕业论文\\codecoach\\.conda\\lib\\site-packages (from langchain-core<0.4.0,>=0.3.29->langchain_openai) (6.0.2)\n",
      "Requirement already satisfied: jsonpatch<2.0,>=1.33 in d:\\毕业论文\\codecoach\\.conda\\lib\\site-packages (from langchain-core<0.4.0,>=0.3.29->langchain_openai) (1.33)\n",
      "Requirement already satisfied: langsmith<0.3,>=0.1.125 in d:\\毕业论文\\codecoach\\.conda\\lib\\site-packages (from langchain-core<0.4.0,>=0.3.29->langchain_openai) (0.2.11)\n",
      "Requirement already satisfied: packaging<25,>=23.2 in d:\\毕业论文\\codecoach\\.conda\\lib\\site-packages (from langchain-core<0.4.0,>=0.3.29->langchain_openai) (24.2)\n",
      "Requirement already satisfied: pydantic<3.0.0,>=2.5.2 in d:\\毕业论文\\codecoach\\.conda\\lib\\site-packages (from langchain-core<0.4.0,>=0.3.29->langchain_openai) (2.10.5)\n",
      "Requirement already satisfied: tenacity!=8.4.0,<10.0.0,>=8.1.0 in d:\\毕业论文\\codecoach\\.conda\\lib\\site-packages (from langchain-core<0.4.0,>=0.3.29->langchain_openai) (9.0.0)\n",
      "Requirement already satisfied: typing-extensions>=4.7 in d:\\毕业论文\\codecoach\\.conda\\lib\\site-packages (from langchain-core<0.4.0,>=0.3.29->langchain_openai) (4.12.2)\n",
      "Requirement already satisfied: anyio<5,>=3.5.0 in d:\\毕业论文\\codecoach\\.conda\\lib\\site-packages (from openai<2.0.0,>=1.58.1->langchain_openai) (4.8.0)\n",
      "Requirement already satisfied: distro<2,>=1.7.0 in d:\\毕业论文\\codecoach\\.conda\\lib\\site-packages (from openai<2.0.0,>=1.58.1->langchain_openai) (1.9.0)\n",
      "Requirement already satisfied: httpx<1,>=0.23.0 in d:\\毕业论文\\codecoach\\.conda\\lib\\site-packages (from openai<2.0.0,>=1.58.1->langchain_openai) (0.28.1)\n",
      "Requirement already satisfied: jiter<1,>=0.4.0 in d:\\毕业论文\\codecoach\\.conda\\lib\\site-packages (from openai<2.0.0,>=1.58.1->langchain_openai) (0.8.2)\n",
      "Requirement already satisfied: sniffio in d:\\毕业论文\\codecoach\\.conda\\lib\\site-packages (from openai<2.0.0,>=1.58.1->langchain_openai) (1.3.1)\n",
      "Requirement already satisfied: tqdm>4 in d:\\毕业论文\\codecoach\\.conda\\lib\\site-packages (from openai<2.0.0,>=1.58.1->langchain_openai) (4.67.1)\n",
      "Requirement already satisfied: regex>=2022.1.18 in d:\\毕业论文\\codecoach\\.conda\\lib\\site-packages (from tiktoken<1,>=0.7->langchain_openai) (2024.11.6)\n",
      "Requirement already satisfied: requests>=2.26.0 in d:\\毕业论文\\codecoach\\.conda\\lib\\site-packages (from tiktoken<1,>=0.7->langchain_openai) (2.32.3)\n",
      "Requirement already satisfied: idna>=2.8 in d:\\毕业论文\\codecoach\\.conda\\lib\\site-packages (from anyio<5,>=3.5.0->openai<2.0.0,>=1.58.1->langchain_openai) (3.10)\n",
      "Requirement already satisfied: certifi in d:\\毕业论文\\codecoach\\.conda\\lib\\site-packages (from httpx<1,>=0.23.0->openai<2.0.0,>=1.58.1->langchain_openai) (2024.12.14)\n",
      "Requirement already satisfied: httpcore==1.* in d:\\毕业论文\\codecoach\\.conda\\lib\\site-packages (from httpx<1,>=0.23.0->openai<2.0.0,>=1.58.1->langchain_openai) (1.0.7)\n",
      "Requirement already satisfied: h11<0.15,>=0.13 in d:\\毕业论文\\codecoach\\.conda\\lib\\site-packages (from httpcore==1.*->httpx<1,>=0.23.0->openai<2.0.0,>=1.58.1->langchain_openai) (0.14.0)\n",
      "Requirement already satisfied: jsonpointer>=1.9 in d:\\毕业论文\\codecoach\\.conda\\lib\\site-packages (from jsonpatch<2.0,>=1.33->langchain-core<0.4.0,>=0.3.29->langchain_openai) (3.0.0)\n",
      "Requirement already satisfied: orjson<4.0.0,>=3.9.14 in d:\\毕业论文\\codecoach\\.conda\\lib\\site-packages (from langsmith<0.3,>=0.1.125->langchain-core<0.4.0,>=0.3.29->langchain_openai) (3.10.14)\n",
      "Requirement already satisfied: requests-toolbelt<2.0.0,>=1.0.0 in d:\\毕业论文\\codecoach\\.conda\\lib\\site-packages (from langsmith<0.3,>=0.1.125->langchain-core<0.4.0,>=0.3.29->langchain_openai) (1.0.0)\n",
      "Requirement already satisfied: annotated-types>=0.6.0 in d:\\毕业论文\\codecoach\\.conda\\lib\\site-packages (from pydantic<3.0.0,>=2.5.2->langchain-core<0.4.0,>=0.3.29->langchain_openai) (0.7.0)\n",
      "Requirement already satisfied: pydantic-core==2.27.2 in d:\\毕业论文\\codecoach\\.conda\\lib\\site-packages (from pydantic<3.0.0,>=2.5.2->langchain-core<0.4.0,>=0.3.29->langchain_openai) (2.27.2)\n",
      "Requirement already satisfied: charset-normalizer<4,>=2 in d:\\毕业论文\\codecoach\\.conda\\lib\\site-packages (from requests>=2.26.0->tiktoken<1,>=0.7->langchain_openai) (3.4.1)\n",
      "Requirement already satisfied: urllib3<3,>=1.21.1 in d:\\毕业论文\\codecoach\\.conda\\lib\\site-packages (from requests>=2.26.0->tiktoken<1,>=0.7->langchain_openai) (2.3.0)\n",
      "Requirement already satisfied: colorama in d:\\毕业论文\\codecoach\\.conda\\lib\\site-packages (from tqdm>4->openai<2.0.0,>=1.58.1->langchain_openai) (0.4.6)\n"
     ]
    }
   ],
   "source": [
    "%pip install langchain langchain-core langchain-community\n",
    "%pip install python-dotenv\n",
    "%pip install langchain_openai"
   ]
  },
  {
   "cell_type": "code",
   "execution_count": 2,
   "metadata": {},
   "outputs": [
    {
     "data": {
      "text/plain": [
       "True"
      ]
     },
     "execution_count": 2,
     "metadata": {},
     "output_type": "execute_result"
    }
   ],
   "source": [
    "from dotenv import load_dotenv\n",
    "load_dotenv()"
   ]
  },
  {
   "cell_type": "code",
   "execution_count": 3,
   "metadata": {},
   "outputs": [],
   "source": [
    "from langchain_core.prompts import ChatPromptTemplate\n",
    "from langchain_core.output_parsers import StrOutputParser\n",
    "from langchain_openai import ChatOpenAI"
   ]
  },
  {
   "cell_type": "markdown",
   "metadata": {},
   "source": [
    "设定系统上下文，构建提示词"
   ]
  },
  {
   "cell_type": "code",
   "execution_count": 4,
   "metadata": {},
   "outputs": [],
   "source": [
    "template=\"\"\"请扮演一位资深的编程教练，您将负责为学生仔细分析程序代码，帮助其更好地完成编程。\n",
    "        1. 首先，仔细阅读用户提供的代码，理解其功能和实现逻辑。\n",
    "        2. 分析代码的算法框架，识别主要的算法步骤和数据结构的使用。\n",
    "        3. 针对代码的逻辑和实现，提出可能的改进方向，包括性能优化、可读性提升等。\n",
    "        4. 设计一组测试用例，确保覆盖代码的主要功能和边界情况，以验证代码的正确性。\n",
    "        5. 将分析结果、改进建议和测试用例整理成清晰的文本，确保用户能够轻松理解。\"\"\"\n",
    "prompt= ChatPromptTemplate.from_messages([(\"system\",template),\n",
    "                                          (\"human\",\"{input}\")])"
   ]
  },
  {
   "cell_type": "markdown",
   "metadata": {},
   "source": [
    "待更新 \n",
    "实例选择器，从实例存储库中根据规则筛选合适的few shot示例并插入提示词，帮助模型更快地学习，理解用户需求"
   ]
  },
  {
   "cell_type": "markdown",
   "metadata": {},
   "source": [
    "通过openai加载Qwen对话补全模型"
   ]
  },
  {
   "cell_type": "code",
   "execution_count": 5,
   "metadata": {},
   "outputs": [],
   "source": [
    "model=ChatOpenAI(model=\"gpt-4o-mini\")"
   ]
  },
  {
   "cell_type": "markdown",
   "metadata": {},
   "source": [
    "通过LCEL构建调用链并执行，得到文本输出"
   ]
  },
  {
   "cell_type": "code",
   "execution_count": 9,
   "metadata": {},
   "outputs": [
    {
     "data": {
      "text/plain": [
       "'### 代码分析\\n\\n1. **功能和实现逻辑**:\\n   这段代码定义了一个递归函数 `factorial(n)`，用于计算非负整数 `n` 的阶乘。阶乘的定义是：对于任何非负整数 `n`，其阶乘是所有小于或等于 `n` 的正整数的乘积。特别地，0 的阶乘定义为 1。\\n\\n2. **算法框架**:\\n   - **主要步骤**：\\n     - 如果 `n` 为 0，则返回 1。\\n     - 否则，返回 `n` 乘以 `factorial(n - 1)`，即递归调用计算 `n-1` 的阶乘。\\n   - **数据结构**：该实现使用了基本的原始数据类型（整数），没有使用复杂的数据结构。\\n\\n### 改进方向\\n\\n1. **性能优化**：\\n   - 递归算法在计算较大 `n` 时会导致栈溢出，可以考虑使用迭代法实现阶乘。\\n   - 可以使用术语的缓存（memoization）来避免重复计算，虽然对于阶乘函数没有太大必要，因为每个输入的计算是唯一的。\\n\\n2. **可读性提升**：\\n   - 代码缩进不统一，可能导致代码可读性差。建议确保每个代码块的缩进一致，通常建议使用四个空格。\\n   - 提供函数文档字符串（docstring），以说明函数的用途、参数和返回值。\\n\\n### 改进后的代码示例\\n\\n```python\\ndef factorial(n):\\n    \"\"\"\\n    计算非负整数 n 的阶乘。\\n    \\n    参数:\\n    n : int\\n        需要计算阶乘的非负整数。\\n        \\n    返回:\\n    int\\n        n 的阶乘值。\\n    \\n    例:\\n    factorial(5) 返回 120\\n    \"\"\"\\n    if n < 0:\\n        raise ValueError(\"负数没有阶乘。\")\\n    elif n == 0:\\n        return 1\\n    else:\\n        result = 1\\n        for i in range(1, n + 1):\\n            result *= i\\n        return result\\n```\\n\\n### 测试用例\\n\\n为了确保代码的正确性，以下是一些建议的测试用例：\\n\\n1. **基本功能测试**:\\n   - `factorial(0)` 应返回 `1`\\n   - `factorial(1)` 应返回 `1`\\n   - `factorial(5)` 应返回 `120`\\n\\n2. **边界情况**:\\n   - `factorial(10)` 应返回 `3628800`\\n   - `factorial(20)` 应返回 `2432902008176640000`（确保可以处理大数）\\n\\n3. **错误处理测试**:\\n   - 当输入负数时，如 `factorial(-1)` 应抛出 `ValueError` 异常。\\n\\n### 总结\\n\\n通过上述分析与改进建议，可以使代码性能更好、可读性更高，并通过全面的测试用例确保代码的正确性。希望这些建议能够帮助你更深入理解这个函数的实现以及如何更优雅地编写代码！'"
      ]
     },
     "execution_count": 9,
     "metadata": {},
     "output_type": "execute_result"
    }
   ],
   "source": [
    "chain=prompt|model|StrOutputParser()\n",
    "chain.invoke({\"input\":\"\"\"def factorial(n):\n",
    "                             if n == 0:\n",
    "                                return 1\n",
    "                            else:\n",
    "                                return n * factorial(n - 1)\"\"\"})"
   ]
  },
  {
   "cell_type": "markdown",
   "metadata": {},
   "source": [
    "审查链路结构"
   ]
  },
  {
   "cell_type": "code",
   "execution_count": 7,
   "metadata": {},
   "outputs": [
    {
     "data": {
      "text/plain": [
       "<bound method Graph.print_ascii of Graph(nodes={'c0985b8e371e4f838378d88aa449ca4b': Node(id='c0985b8e371e4f838378d88aa449ca4b', name='PromptInput', data=<class 'langchain_core.utils.pydantic.PromptInput'>, metadata=None), '145ce2131558476f90ff03c4e614b96d': Node(id='145ce2131558476f90ff03c4e614b96d', name='ChatPromptTemplate', data=ChatPromptTemplate(input_variables=['input'], input_types={}, partial_variables={}, messages=[SystemMessagePromptTemplate(prompt=PromptTemplate(input_variables=[], input_types={}, partial_variables={}, template='请扮演一位资深的编程教练，您将负责为学生仔细分析程序代码，帮助其更好地完成编程。\\n        1. 首先，仔细阅读用户提供的代码，理解其功能和实现逻辑。\\n        2. 分析代码的算法框架，识别主要的算法步骤和数据结构的使用。\\n        3. 针对代码的逻辑和实现，提出可能的改进方向，包括性能优化、可读性提升等。\\n        4. 设计一组测试用例，确保覆盖代码的主要功能和边界情况，以验证代码的正确性。\\n        5. 将分析结果、改进建议和测试用例整理成清晰的文本，确保用户能够轻松理解。'), additional_kwargs={}), HumanMessagePromptTemplate(prompt=PromptTemplate(input_variables=['input'], input_types={}, partial_variables={}, template='{input}'), additional_kwargs={})]), metadata=None), '6aa5703f96e94e8f8beb928c1b9393f2': Node(id='6aa5703f96e94e8f8beb928c1b9393f2', name='ChatOpenAI', data=ChatOpenAI(client=<openai.resources.chat.completions.Completions object at 0x000001CD2CD26AD0>, async_client=<openai.resources.chat.completions.AsyncCompletions object at 0x000001CD2CD33150>, root_client=<openai.OpenAI object at 0x000001CD29D02110>, root_async_client=<openai.AsyncOpenAI object at 0x000001CD2CD26C90>, model_name='gpt-4o-mini', model_kwargs={}, openai_api_key=SecretStr('**********'), openai_api_base='https://api.openai.com/v1/'), metadata=None), 'd9838f6b5db245099c3385b869375c49': Node(id='d9838f6b5db245099c3385b869375c49', name='StrOutputParser', data=StrOutputParser(), metadata=None), 'dcec091f458e49a1b5afbbd62f5fd97f': Node(id='dcec091f458e49a1b5afbbd62f5fd97f', name='StrOutputParserOutput', data=<class 'langchain_core.output_parsers.string.StrOutputParserOutput'>, metadata=None)}, edges=[Edge(source='c0985b8e371e4f838378d88aa449ca4b', target='145ce2131558476f90ff03c4e614b96d', data=None, conditional=False), Edge(source='145ce2131558476f90ff03c4e614b96d', target='6aa5703f96e94e8f8beb928c1b9393f2', data=None, conditional=False), Edge(source='d9838f6b5db245099c3385b869375c49', target='dcec091f458e49a1b5afbbd62f5fd97f', data=None, conditional=False), Edge(source='6aa5703f96e94e8f8beb928c1b9393f2', target='d9838f6b5db245099c3385b869375c49', data=None, conditional=False)])>"
      ]
     },
     "execution_count": 7,
     "metadata": {},
     "output_type": "execute_result"
    }
   ],
   "source": [
    "chain.get_graph().print_ascii"
   ]
  }
 ],
 "metadata": {
  "kernelspec": {
   "display_name": "Python 3",
   "language": "python",
   "name": "python3"
  },
  "language_info": {
   "codemirror_mode": {
    "name": "ipython",
    "version": 3
   },
   "file_extension": ".py",
   "mimetype": "text/x-python",
   "name": "python",
   "nbconvert_exporter": "python",
   "pygments_lexer": "ipython3",
   "version": "3.11.11"
  }
 },
 "nbformat": 4,
 "nbformat_minor": 2
}
