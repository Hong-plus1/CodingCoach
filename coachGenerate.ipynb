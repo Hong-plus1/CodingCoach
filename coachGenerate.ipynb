{
 "cells": [
  {
   "cell_type": "code",
   "execution_count": 1,
   "metadata": {},
   "outputs": [
    {
     "name": "stdout",
     "output_type": "stream",
     "text": [
      "Looking in indexes: https://pypi.tuna.tsinghua.edu.cn/simple/\n",
      "Requirement already satisfied: langchain in d:\\毕业论文\\codecoach\\.conda\\lib\\site-packages (0.3.14)\n",
      "Requirement already satisfied: langchain-core in d:\\毕业论文\\codecoach\\.conda\\lib\\site-packages (0.3.30)\n",
      "Requirement already satisfied: langchain-community in d:\\毕业论文\\codecoach\\.conda\\lib\\site-packages (0.3.14)\n",
      "Requirement already satisfied: PyYAML>=5.3 in d:\\毕业论文\\codecoach\\.conda\\lib\\site-packages (from langchain) (6.0.2)\n",
      "Requirement already satisfied: SQLAlchemy<3,>=1.4 in d:\\毕业论文\\codecoach\\.conda\\lib\\site-packages (from langchain) (2.0.37)\n",
      "Requirement already satisfied: aiohttp<4.0.0,>=3.8.3 in d:\\毕业论文\\codecoach\\.conda\\lib\\site-packages (from langchain) (3.11.11)\n",
      "Requirement already satisfied: langchain-text-splitters<0.4.0,>=0.3.3 in d:\\毕业论文\\codecoach\\.conda\\lib\\site-packages (from langchain) (0.3.5)\n",
      "Requirement already satisfied: langsmith<0.3,>=0.1.17 in d:\\毕业论文\\codecoach\\.conda\\lib\\site-packages (from langchain) (0.2.11)\n",
      "Requirement already satisfied: numpy<2,>=1.22.4 in d:\\毕业论文\\codecoach\\.conda\\lib\\site-packages (from langchain) (1.26.4)\n",
      "Requirement already satisfied: pydantic<3.0.0,>=2.7.4 in d:\\毕业论文\\codecoach\\.conda\\lib\\site-packages (from langchain) (2.10.5)\n",
      "Requirement already satisfied: requests<3,>=2 in d:\\毕业论文\\codecoach\\.conda\\lib\\site-packages (from langchain) (2.32.3)\n",
      "Requirement already satisfied: tenacity!=8.4.0,<10,>=8.1.0 in d:\\毕业论文\\codecoach\\.conda\\lib\\site-packages (from langchain) (9.0.0)\n",
      "Requirement already satisfied: jsonpatch<2.0,>=1.33 in d:\\毕业论文\\codecoach\\.conda\\lib\\site-packages (from langchain-core) (1.33)\n",
      "Requirement already satisfied: packaging<25,>=23.2 in d:\\毕业论文\\codecoach\\.conda\\lib\\site-packages (from langchain-core) (24.2)\n",
      "Requirement already satisfied: typing-extensions>=4.7 in d:\\毕业论文\\codecoach\\.conda\\lib\\site-packages (from langchain-core) (4.12.2)\n",
      "Requirement already satisfied: dataclasses-json<0.7,>=0.5.7 in d:\\毕业论文\\codecoach\\.conda\\lib\\site-packages (from langchain-community) (0.6.7)\n",
      "Requirement already satisfied: httpx-sse<0.5.0,>=0.4.0 in d:\\毕业论文\\codecoach\\.conda\\lib\\site-packages (from langchain-community) (0.4.0)\n",
      "Requirement already satisfied: pydantic-settings<3.0.0,>=2.4.0 in d:\\毕业论文\\codecoach\\.conda\\lib\\site-packages (from langchain-community) (2.7.1)\n",
      "Requirement already satisfied: aiohappyeyeballs>=2.3.0 in d:\\毕业论文\\codecoach\\.conda\\lib\\site-packages (from aiohttp<4.0.0,>=3.8.3->langchain) (2.4.4)\n",
      "Requirement already satisfied: aiosignal>=1.1.2 in d:\\毕业论文\\codecoach\\.conda\\lib\\site-packages (from aiohttp<4.0.0,>=3.8.3->langchain) (1.3.2)\n",
      "Requirement already satisfied: attrs>=17.3.0 in d:\\毕业论文\\codecoach\\.conda\\lib\\site-packages (from aiohttp<4.0.0,>=3.8.3->langchain) (24.3.0)\n",
      "Requirement already satisfied: frozenlist>=1.1.1 in d:\\毕业论文\\codecoach\\.conda\\lib\\site-packages (from aiohttp<4.0.0,>=3.8.3->langchain) (1.5.0)\n",
      "Requirement already satisfied: multidict<7.0,>=4.5 in d:\\毕业论文\\codecoach\\.conda\\lib\\site-packages (from aiohttp<4.0.0,>=3.8.3->langchain) (6.1.0)\n",
      "Requirement already satisfied: propcache>=0.2.0 in d:\\毕业论文\\codecoach\\.conda\\lib\\site-packages (from aiohttp<4.0.0,>=3.8.3->langchain) (0.2.1)\n",
      "Requirement already satisfied: yarl<2.0,>=1.17.0 in d:\\毕业论文\\codecoach\\.conda\\lib\\site-packages (from aiohttp<4.0.0,>=3.8.3->langchain) (1.18.3)\n",
      "Requirement already satisfied: marshmallow<4.0.0,>=3.18.0 in d:\\毕业论文\\codecoach\\.conda\\lib\\site-packages (from dataclasses-json<0.7,>=0.5.7->langchain-community) (3.25.1)\n",
      "Requirement already satisfied: typing-inspect<1,>=0.4.0 in d:\\毕业论文\\codecoach\\.conda\\lib\\site-packages (from dataclasses-json<0.7,>=0.5.7->langchain-community) (0.9.0)\n",
      "Requirement already satisfied: jsonpointer>=1.9 in d:\\毕业论文\\codecoach\\.conda\\lib\\site-packages (from jsonpatch<2.0,>=1.33->langchain-core) (3.0.0)\n",
      "Requirement already satisfied: httpx<1,>=0.23.0 in d:\\毕业论文\\codecoach\\.conda\\lib\\site-packages (from langsmith<0.3,>=0.1.17->langchain) (0.28.1)\n",
      "Requirement already satisfied: orjson<4.0.0,>=3.9.14 in d:\\毕业论文\\codecoach\\.conda\\lib\\site-packages (from langsmith<0.3,>=0.1.17->langchain) (3.10.14)\n",
      "Requirement already satisfied: requests-toolbelt<2.0.0,>=1.0.0 in d:\\毕业论文\\codecoach\\.conda\\lib\\site-packages (from langsmith<0.3,>=0.1.17->langchain) (1.0.0)\n",
      "Requirement already satisfied: annotated-types>=0.6.0 in d:\\毕业论文\\codecoach\\.conda\\lib\\site-packages (from pydantic<3.0.0,>=2.7.4->langchain) (0.7.0)\n",
      "Requirement already satisfied: pydantic-core==2.27.2 in d:\\毕业论文\\codecoach\\.conda\\lib\\site-packages (from pydantic<3.0.0,>=2.7.4->langchain) (2.27.2)\n",
      "Requirement already satisfied: python-dotenv>=0.21.0 in d:\\毕业论文\\codecoach\\.conda\\lib\\site-packages (from pydantic-settings<3.0.0,>=2.4.0->langchain-community) (1.0.1)\n",
      "Requirement already satisfied: charset-normalizer<4,>=2 in d:\\毕业论文\\codecoach\\.conda\\lib\\site-packages (from requests<3,>=2->langchain) (3.4.1)\n",
      "Requirement already satisfied: idna<4,>=2.5 in d:\\毕业论文\\codecoach\\.conda\\lib\\site-packages (from requests<3,>=2->langchain) (3.10)\n",
      "Requirement already satisfied: urllib3<3,>=1.21.1 in d:\\毕业论文\\codecoach\\.conda\\lib\\site-packages (from requests<3,>=2->langchain) (2.3.0)\n",
      "Requirement already satisfied: certifi>=2017.4.17 in d:\\毕业论文\\codecoach\\.conda\\lib\\site-packages (from requests<3,>=2->langchain) (2024.12.14)\n",
      "Requirement already satisfied: greenlet!=0.4.17 in d:\\毕业论文\\codecoach\\.conda\\lib\\site-packages (from SQLAlchemy<3,>=1.4->langchain) (3.1.1)\n",
      "Requirement already satisfied: anyio in d:\\毕业论文\\codecoach\\.conda\\lib\\site-packages (from httpx<1,>=0.23.0->langsmith<0.3,>=0.1.17->langchain) (4.8.0)\n",
      "Requirement already satisfied: httpcore==1.* in d:\\毕业论文\\codecoach\\.conda\\lib\\site-packages (from httpx<1,>=0.23.0->langsmith<0.3,>=0.1.17->langchain) (1.0.7)\n",
      "Requirement already satisfied: h11<0.15,>=0.13 in d:\\毕业论文\\codecoach\\.conda\\lib\\site-packages (from httpcore==1.*->httpx<1,>=0.23.0->langsmith<0.3,>=0.1.17->langchain) (0.14.0)\n",
      "Requirement already satisfied: mypy-extensions>=0.3.0 in d:\\毕业论文\\codecoach\\.conda\\lib\\site-packages (from typing-inspect<1,>=0.4.0->dataclasses-json<0.7,>=0.5.7->langchain-community) (1.0.0)\n",
      "Requirement already satisfied: sniffio>=1.1 in d:\\毕业论文\\codecoach\\.conda\\lib\\site-packages (from anyio->httpx<1,>=0.23.0->langsmith<0.3,>=0.1.17->langchain) (1.3.1)\n",
      "Note: you may need to restart the kernel to use updated packages.\n",
      "Looking in indexes: https://pypi.tuna.tsinghua.edu.cn/simple/\n",
      "Requirement already satisfied: python-dotenv in d:\\毕业论文\\codecoach\\.conda\\lib\\site-packages (1.0.1)\n",
      "Note: you may need to restart the kernel to use updated packages.\n",
      "Looking in indexes: https://pypi.tuna.tsinghua.edu.cn/simple/\n",
      "Requirement already satisfied: langchain_openai in d:\\毕业论文\\codecoach\\.conda\\lib\\site-packages (0.3.0)\n",
      "Requirement already satisfied: langchain-core<0.4.0,>=0.3.29 in d:\\毕业论文\\codecoach\\.conda\\lib\\site-packages (from langchain_openai) (0.3.30)\n",
      "Requirement already satisfied: openai<2.0.0,>=1.58.1 in d:\\毕业论文\\codecoach\\.conda\\lib\\site-packages (from langchain_openai) (1.59.8)\n",
      "Requirement already satisfied: tiktoken<1,>=0.7 in d:\\毕业论文\\codecoach\\.conda\\lib\\site-packages (from langchain_openai) (0.8.0)\n",
      "Requirement already satisfied: PyYAML>=5.3 in d:\\毕业论文\\codecoach\\.conda\\lib\\site-packages (from langchain-core<0.4.0,>=0.3.29->langchain_openai) (6.0.2)\n",
      "Requirement already satisfied: jsonpatch<2.0,>=1.33 in d:\\毕业论文\\codecoach\\.conda\\lib\\site-packages (from langchain-core<0.4.0,>=0.3.29->langchain_openai) (1.33)\n",
      "Requirement already satisfied: langsmith<0.3,>=0.1.125 in d:\\毕业论文\\codecoach\\.conda\\lib\\site-packages (from langchain-core<0.4.0,>=0.3.29->langchain_openai) (0.2.11)\n",
      "Requirement already satisfied: packaging<25,>=23.2 in d:\\毕业论文\\codecoach\\.conda\\lib\\site-packages (from langchain-core<0.4.0,>=0.3.29->langchain_openai) (24.2)\n",
      "Requirement already satisfied: pydantic<3.0.0,>=2.5.2 in d:\\毕业论文\\codecoach\\.conda\\lib\\site-packages (from langchain-core<0.4.0,>=0.3.29->langchain_openai) (2.10.5)\n",
      "Requirement already satisfied: tenacity!=8.4.0,<10.0.0,>=8.1.0 in d:\\毕业论文\\codecoach\\.conda\\lib\\site-packages (from langchain-core<0.4.0,>=0.3.29->langchain_openai) (9.0.0)\n",
      "Requirement already satisfied: typing-extensions>=4.7 in d:\\毕业论文\\codecoach\\.conda\\lib\\site-packages (from langchain-core<0.4.0,>=0.3.29->langchain_openai) (4.12.2)\n",
      "Requirement already satisfied: anyio<5,>=3.5.0 in d:\\毕业论文\\codecoach\\.conda\\lib\\site-packages (from openai<2.0.0,>=1.58.1->langchain_openai) (4.8.0)\n",
      "Requirement already satisfied: distro<2,>=1.7.0 in d:\\毕业论文\\codecoach\\.conda\\lib\\site-packages (from openai<2.0.0,>=1.58.1->langchain_openai) (1.9.0)\n",
      "Requirement already satisfied: httpx<1,>=0.23.0 in d:\\毕业论文\\codecoach\\.conda\\lib\\site-packages (from openai<2.0.0,>=1.58.1->langchain_openai) (0.28.1)\n",
      "Requirement already satisfied: jiter<1,>=0.4.0 in d:\\毕业论文\\codecoach\\.conda\\lib\\site-packages (from openai<2.0.0,>=1.58.1->langchain_openai) (0.8.2)\n",
      "Requirement already satisfied: sniffio in d:\\毕业论文\\codecoach\\.conda\\lib\\site-packages (from openai<2.0.0,>=1.58.1->langchain_openai) (1.3.1)\n",
      "Requirement already satisfied: tqdm>4 in d:\\毕业论文\\codecoach\\.conda\\lib\\site-packages (from openai<2.0.0,>=1.58.1->langchain_openai) (4.67.1)\n",
      "Requirement already satisfied: regex>=2022.1.18 in d:\\毕业论文\\codecoach\\.conda\\lib\\site-packages (from tiktoken<1,>=0.7->langchain_openai) (2024.11.6)\n",
      "Requirement already satisfied: requests>=2.26.0 in d:\\毕业论文\\codecoach\\.conda\\lib\\site-packages (from tiktoken<1,>=0.7->langchain_openai) (2.32.3)\n",
      "Requirement already satisfied: idna>=2.8 in d:\\毕业论文\\codecoach\\.conda\\lib\\site-packages (from anyio<5,>=3.5.0->openai<2.0.0,>=1.58.1->langchain_openai) (3.10)\n",
      "Requirement already satisfied: certifi in d:\\毕业论文\\codecoach\\.conda\\lib\\site-packages (from httpx<1,>=0.23.0->openai<2.0.0,>=1.58.1->langchain_openai) (2024.12.14)\n",
      "Requirement already satisfied: httpcore==1.* in d:\\毕业论文\\codecoach\\.conda\\lib\\site-packages (from httpx<1,>=0.23.0->openai<2.0.0,>=1.58.1->langchain_openai) (1.0.7)\n",
      "Requirement already satisfied: h11<0.15,>=0.13 in d:\\毕业论文\\codecoach\\.conda\\lib\\site-packages (from httpcore==1.*->httpx<1,>=0.23.0->openai<2.0.0,>=1.58.1->langchain_openai) (0.14.0)\n",
      "Requirement already satisfied: jsonpointer>=1.9 in d:\\毕业论文\\codecoach\\.conda\\lib\\site-packages (from jsonpatch<2.0,>=1.33->langchain-core<0.4.0,>=0.3.29->langchain_openai) (3.0.0)\n",
      "Requirement already satisfied: orjson<4.0.0,>=3.9.14 in d:\\毕业论文\\codecoach\\.conda\\lib\\site-packages (from langsmith<0.3,>=0.1.125->langchain-core<0.4.0,>=0.3.29->langchain_openai) (3.10.14)\n",
      "Requirement already satisfied: requests-toolbelt<2.0.0,>=1.0.0 in d:\\毕业论文\\codecoach\\.conda\\lib\\site-packages (from langsmith<0.3,>=0.1.125->langchain-core<0.4.0,>=0.3.29->langchain_openai) (1.0.0)\n",
      "Requirement already satisfied: annotated-types>=0.6.0 in d:\\毕业论文\\codecoach\\.conda\\lib\\site-packages (from pydantic<3.0.0,>=2.5.2->langchain-core<0.4.0,>=0.3.29->langchain_openai) (0.7.0)\n",
      "Requirement already satisfied: pydantic-core==2.27.2 in d:\\毕业论文\\codecoach\\.conda\\lib\\site-packages (from pydantic<3.0.0,>=2.5.2->langchain-core<0.4.0,>=0.3.29->langchain_openai) (2.27.2)\n",
      "Requirement already satisfied: charset-normalizer<4,>=2 in d:\\毕业论文\\codecoach\\.conda\\lib\\site-packages (from requests>=2.26.0->tiktoken<1,>=0.7->langchain_openai) (3.4.1)\n",
      "Requirement already satisfied: urllib3<3,>=1.21.1 in d:\\毕业论文\\codecoach\\.conda\\lib\\site-packages (from requests>=2.26.0->tiktoken<1,>=0.7->langchain_openai) (2.3.0)\n",
      "Requirement already satisfied: colorama in d:\\毕业论文\\codecoach\\.conda\\lib\\site-packages (from tqdm>4->openai<2.0.0,>=1.58.1->langchain_openai) (0.4.6)\n",
      "Note: you may need to restart the kernel to use updated packages.\n"
     ]
    }
   ],
   "source": [
    "%pip install langchain langchain-core langchain-community\n",
    "%pip install python-dotenv\n",
    "%pip install langchain_openai"
   ]
  },
  {
   "cell_type": "code",
   "execution_count": 2,
   "metadata": {},
   "outputs": [
    {
     "name": "stdout",
     "output_type": "stream",
     "text": [
      "Looking in indexes: https://mirrors.aliyun.com/pypi/simple/\n",
      "Collecting streamlit\n",
      "  Downloading https://mirrors.aliyun.com/pypi/packages/ad/dc/69068179e09488d0833a970d06e8bf40e35669a7bddb8a3caadc13b7dff4/streamlit-1.42.0-py2.py3-none-any.whl (9.6 MB)\n",
      "     ---------------------------------------- 0.0/9.6 MB ? eta -:--:--\n",
      "     - -------------------------------------- 0.3/9.6 MB ? eta -:--:--\n",
      "     --- ------------------------------------ 0.8/9.6 MB 2.4 MB/s eta 0:00:04\n",
      "     ----- ---------------------------------- 1.3/9.6 MB 2.1 MB/s eta 0:00:04\n",
      "     ------ --------------------------------- 1.6/9.6 MB 2.0 MB/s eta 0:00:04\n",
      "     -------- ------------------------------- 2.1/9.6 MB 2.1 MB/s eta 0:00:04\n",
      "     --------- ------------------------------ 2.4/9.6 MB 2.1 MB/s eta 0:00:04\n",
      "     ------------ --------------------------- 2.9/9.6 MB 2.0 MB/s eta 0:00:04\n",
      "     -------------- ------------------------- 3.4/9.6 MB 2.0 MB/s eta 0:00:04\n",
      "     ---------------- ----------------------- 3.9/9.6 MB 2.1 MB/s eta 0:00:03\n",
      "     ------------------ --------------------- 4.5/9.6 MB 2.1 MB/s eta 0:00:03\n",
      "     ------------------- -------------------- 4.7/9.6 MB 2.1 MB/s eta 0:00:03\n",
      "     --------------------- ------------------ 5.2/9.6 MB 2.1 MB/s eta 0:00:03\n",
      "     ------------------------- -------------- 6.0/9.6 MB 2.2 MB/s eta 0:00:02\n",
      "     -------------------------- ------------- 6.3/9.6 MB 2.2 MB/s eta 0:00:02\n",
      "     --------------------------- ------------ 6.6/9.6 MB 2.1 MB/s eta 0:00:02\n",
      "     ---------------------------- ----------- 6.8/9.6 MB 2.0 MB/s eta 0:00:02\n",
      "     ----------------------------- ---------- 7.1/9.6 MB 2.0 MB/s eta 0:00:02\n",
      "     ------------------------------ --------- 7.3/9.6 MB 2.0 MB/s eta 0:00:02\n",
      "     ------------------------------ --------- 7.3/9.6 MB 2.0 MB/s eta 0:00:02\n",
      "     -------------------------------- ------- 7.9/9.6 MB 1.9 MB/s eta 0:00:01\n",
      "     ---------------------------------- ----- 8.1/9.6 MB 1.8 MB/s eta 0:00:01\n",
      "     ----------------------------------- ---- 8.4/9.6 MB 1.8 MB/s eta 0:00:01\n",
      "     ------------------------------------- -- 8.9/9.6 MB 1.8 MB/s eta 0:00:01\n",
      "     ---------------------------------------  9.4/9.6 MB 1.9 MB/s eta 0:00:01\n",
      "     ---------------------------------------- 9.6/9.6 MB 1.9 MB/s eta 0:00:00\n",
      "Collecting altair<6,>=4.0 (from streamlit)\n",
      "  Downloading https://mirrors.aliyun.com/pypi/packages/aa/f3/0b6ced594e51cc95d8c1fc1640d3623770d01e4969d29c0bd09945fafefa/altair-5.5.0-py3-none-any.whl (731 kB)\n",
      "     ---------------------------------------- 0.0/731.2 kB ? eta -:--:--\n",
      "     -------------- ------------------------- 262.1/731.2 kB ? eta -:--:--\n",
      "     -------------------------------------- 731.2/731.2 kB 2.1 MB/s eta 0:00:00\n",
      "Collecting blinker<2,>=1.0.0 (from streamlit)\n",
      "  Downloading https://mirrors.aliyun.com/pypi/packages/10/cb/f2ad4230dc2eb1a74edf38f1a38b9b52277f75bef262d8908e60d957e13c/blinker-1.9.0-py3-none-any.whl (8.5 kB)\n",
      "Requirement already satisfied: cachetools<6,>=4.0 in d:\\毕业论文\\codecoach\\.conda\\lib\\site-packages (from streamlit) (5.5.0)\n",
      "Requirement already satisfied: click<9,>=7.0 in d:\\毕业论文\\codecoach\\.conda\\lib\\site-packages (from streamlit) (8.1.8)\n",
      "Requirement already satisfied: numpy<3,>=1.23 in d:\\毕业论文\\codecoach\\.conda\\lib\\site-packages (from streamlit) (1.26.4)\n",
      "Requirement already satisfied: packaging<25,>=20 in d:\\毕业论文\\codecoach\\.conda\\lib\\site-packages (from streamlit) (24.2)\n",
      "Collecting pandas<3,>=1.4.0 (from streamlit)\n",
      "  Downloading https://mirrors.aliyun.com/pypi/packages/ed/8c/87ddf1fcb55d11f9f847e3c69bb1c6f8e46e2f40ab1a2d2abadb2401b007/pandas-2.2.3-cp311-cp311-win_amd64.whl (11.6 MB)\n",
      "     ---------------------------------------- 0.0/11.6 MB ? eta -:--:--\n",
      "     - -------------------------------------- 0.5/11.6 MB 2.8 MB/s eta 0:00:04\n",
      "     --- ------------------------------------ 1.0/11.6 MB 2.8 MB/s eta 0:00:04\n",
      "     ------ --------------------------------- 1.8/11.6 MB 3.0 MB/s eta 0:00:04\n",
      "     -------- ------------------------------- 2.4/11.6 MB 2.9 MB/s eta 0:00:04\n",
      "     --------- ------------------------------ 2.6/11.6 MB 2.6 MB/s eta 0:00:04\n",
      "     ----------- ---------------------------- 3.4/11.6 MB 2.8 MB/s eta 0:00:03\n",
      "     ------------- -------------------------- 3.9/11.6 MB 2.8 MB/s eta 0:00:03\n",
      "     --------------- ------------------------ 4.5/11.6 MB 2.7 MB/s eta 0:00:03\n",
      "     ----------------- ---------------------- 5.0/11.6 MB 2.7 MB/s eta 0:00:03\n",
      "     ------------------ --------------------- 5.5/11.6 MB 2.7 MB/s eta 0:00:03\n",
      "     -------------------- ------------------- 6.0/11.6 MB 2.7 MB/s eta 0:00:03\n",
      "     ---------------------- ----------------- 6.6/11.6 MB 2.7 MB/s eta 0:00:02\n",
      "     ------------------------ --------------- 7.1/11.6 MB 2.6 MB/s eta 0:00:02\n",
      "     ------------------------- -------------- 7.3/11.6 MB 2.6 MB/s eta 0:00:02\n",
      "     --------------------------- ------------ 7.9/11.6 MB 2.5 MB/s eta 0:00:02\n",
      "     ---------------------------- ----------- 8.4/11.6 MB 2.5 MB/s eta 0:00:02\n",
      "     ----------------------------- ---------- 8.7/11.6 MB 2.5 MB/s eta 0:00:02\n",
      "     -------------------------------- ------- 9.4/11.6 MB 2.5 MB/s eta 0:00:01\n",
      "     ---------------------------------- ----- 10.0/11.6 MB 2.5 MB/s eta 0:00:01\n",
      "     ------------------------------------ --- 10.5/11.6 MB 2.5 MB/s eta 0:00:01\n",
      "     ------------------------------------- -- 11.0/11.6 MB 2.5 MB/s eta 0:00:01\n",
      "     -------------------------------------- - 11.3/11.6 MB 2.5 MB/s eta 0:00:01\n",
      "     ---------------------------------------- 11.6/11.6 MB 2.4 MB/s eta 0:00:00\n",
      "Collecting pillow<12,>=7.1.0 (from streamlit)\n",
      "  Downloading https://mirrors.aliyun.com/pypi/packages/3a/c6/fce9255272bcf0c39e15abd2f8fd8429a954cf344469eaceb9d0d1366913/pillow-11.1.0-cp311-cp311-win_amd64.whl (2.6 MB)\n",
      "     ---------------------------------------- 0.0/2.6 MB ? eta -:--:--\n",
      "     ------- -------------------------------- 0.5/2.6 MB 2.4 MB/s eta 0:00:01\n",
      "     --------------- ------------------------ 1.0/2.6 MB 2.4 MB/s eta 0:00:01\n",
      "     ------------------- -------------------- 1.3/2.6 MB 2.3 MB/s eta 0:00:01\n",
      "     ----------------------- ---------------- 1.6/2.6 MB 2.3 MB/s eta 0:00:01\n",
      "     ------------------------------- -------- 2.1/2.6 MB 2.1 MB/s eta 0:00:01\n",
      "     ---------------------------------------- 2.6/2.6 MB 2.1 MB/s eta 0:00:00\n",
      "Requirement already satisfied: protobuf<6,>=3.20 in d:\\毕业论文\\codecoach\\.conda\\lib\\site-packages (from streamlit) (5.29.3)\n",
      "Collecting pyarrow>=7.0 (from streamlit)\n",
      "  Downloading https://mirrors.aliyun.com/pypi/packages/6c/a3/8396fb06ca05d807e89980c177be26617aad15211ece3184e0caa730b8a6/pyarrow-19.0.0-cp311-cp311-win_amd64.whl (25.3 MB)\n",
      "     ---------------------------------------- 0.0/25.3 MB ? eta -:--:--\n",
      "      --------------------------------------- 0.5/25.3 MB 2.4 MB/s eta 0:00:11\n",
      "     - -------------------------------------- 1.0/25.3 MB 2.8 MB/s eta 0:00:09\n",
      "     -- ------------------------------------- 1.6/25.3 MB 2.5 MB/s eta 0:00:10\n",
      "     --- ------------------------------------ 2.1/25.3 MB 2.6 MB/s eta 0:00:09\n",
      "     ---- ----------------------------------- 2.6/25.3 MB 2.8 MB/s eta 0:00:09\n",
      "     ----- ---------------------------------- 3.4/25.3 MB 2.8 MB/s eta 0:00:08\n",
      "     ------ --------------------------------- 3.9/25.3 MB 2.9 MB/s eta 0:00:08\n",
      "     ------- -------------------------------- 4.7/25.3 MB 2.8 MB/s eta 0:00:08\n",
      "     -------- ------------------------------- 5.2/25.3 MB 2.8 MB/s eta 0:00:08\n",
      "     --------- ------------------------------ 5.8/25.3 MB 2.8 MB/s eta 0:00:08\n",
      "     --------- ------------------------------ 6.3/25.3 MB 2.8 MB/s eta 0:00:07\n",
      "     ----------- ---------------------------- 7.1/25.3 MB 2.8 MB/s eta 0:00:07\n",
      "     ------------ --------------------------- 7.6/25.3 MB 2.8 MB/s eta 0:00:07\n",
      "     ------------ --------------------------- 7.9/25.3 MB 2.7 MB/s eta 0:00:07\n",
      "     ------------- -------------------------- 8.4/25.3 MB 2.7 MB/s eta 0:00:07\n",
      "     -------------- ------------------------- 8.9/25.3 MB 2.6 MB/s eta 0:00:07\n",
      "     -------------- ------------------------- 9.4/25.3 MB 2.6 MB/s eta 0:00:06\n",
      "     --------------- ------------------------ 9.7/25.3 MB 2.6 MB/s eta 0:00:06\n",
      "     ---------------- ----------------------- 10.5/25.3 MB 2.6 MB/s eta 0:00:06\n",
      "     ---------------- ----------------------- 10.5/25.3 MB 2.6 MB/s eta 0:00:06\n",
      "     ----------------- ---------------------- 11.0/25.3 MB 2.5 MB/s eta 0:00:06\n",
      "     ------------------ --------------------- 11.5/25.3 MB 2.5 MB/s eta 0:00:06\n",
      "     ------------------- -------------------- 12.1/25.3 MB 2.5 MB/s eta 0:00:06\n",
      "     -------------------- ------------------- 12.8/25.3 MB 2.5 MB/s eta 0:00:05\n",
      "     -------------------- ------------------- 13.1/25.3 MB 2.5 MB/s eta 0:00:05\n",
      "     --------------------- ------------------ 13.6/25.3 MB 2.5 MB/s eta 0:00:05\n",
      "     --------------------- ------------------ 13.9/25.3 MB 2.5 MB/s eta 0:00:05\n",
      "     ---------------------- ----------------- 14.4/25.3 MB 2.5 MB/s eta 0:00:05\n",
      "     ----------------------- ---------------- 14.7/25.3 MB 2.5 MB/s eta 0:00:05\n",
      "     ------------------------ --------------- 15.2/25.3 MB 2.4 MB/s eta 0:00:05\n",
      "     ------------------------ --------------- 15.7/25.3 MB 2.4 MB/s eta 0:00:04\n",
      "     ------------------------- -------------- 16.3/25.3 MB 2.4 MB/s eta 0:00:04\n",
      "     -------------------------- ------------- 16.5/25.3 MB 2.4 MB/s eta 0:00:04\n",
      "     -------------------------- ------------- 16.8/25.3 MB 2.4 MB/s eta 0:00:04\n",
      "     -------------------------- ------------- 17.0/25.3 MB 2.4 MB/s eta 0:00:04\n",
      "     ---------------------------- ----------- 17.8/25.3 MB 2.4 MB/s eta 0:00:04\n",
      "     ---------------------------- ----------- 18.1/25.3 MB 2.4 MB/s eta 0:00:04\n",
      "     ----------------------------- ---------- 18.6/25.3 MB 2.3 MB/s eta 0:00:03\n",
      "     ------------------------------ --------- 19.1/25.3 MB 2.3 MB/s eta 0:00:03\n",
      "     ------------------------------- -------- 19.7/25.3 MB 2.3 MB/s eta 0:00:03\n",
      "     ------------------------------- -------- 20.2/25.3 MB 2.3 MB/s eta 0:00:03\n",
      "     -------------------------------- ------- 20.7/25.3 MB 2.3 MB/s eta 0:00:02\n",
      "     --------------------------------- ------ 21.2/25.3 MB 2.4 MB/s eta 0:00:02\n",
      "     ---------------------------------- ----- 21.5/25.3 MB 2.3 MB/s eta 0:00:02\n",
      "     ---------------------------------- ----- 22.0/25.3 MB 2.3 MB/s eta 0:00:02\n",
      "     ----------------------------------- ---- 22.5/25.3 MB 2.3 MB/s eta 0:00:02\n",
      "     ------------------------------------ --- 23.1/25.3 MB 2.3 MB/s eta 0:00:01\n",
      "     ------------------------------------- -- 23.6/25.3 MB 2.3 MB/s eta 0:00:01\n",
      "     -------------------------------------- - 24.1/25.3 MB 2.4 MB/s eta 0:00:01\n",
      "     -------------------------------------- - 24.6/25.3 MB 2.3 MB/s eta 0:00:01\n",
      "     ---------------------------------------- 25.3/25.3 MB 2.4 MB/s eta 0:00:00\n",
      "Requirement already satisfied: requests<3,>=2.27 in d:\\毕业论文\\codecoach\\.conda\\lib\\site-packages (from streamlit) (2.32.3)\n",
      "Requirement already satisfied: rich<14,>=10.14.0 in d:\\毕业论文\\codecoach\\.conda\\lib\\site-packages (from streamlit) (13.9.4)\n",
      "Requirement already satisfied: tenacity<10,>=8.1.0 in d:\\毕业论文\\codecoach\\.conda\\lib\\site-packages (from streamlit) (9.0.0)\n",
      "Collecting toml<2,>=0.10.1 (from streamlit)\n",
      "  Downloading https://mirrors.aliyun.com/pypi/packages/44/6f/7120676b6d73228c96e17f1f794d8ab046fc910d781c8d151120c3f1569e/toml-0.10.2-py2.py3-none-any.whl (16 kB)\n",
      "Requirement already satisfied: typing-extensions<5,>=4.4.0 in d:\\毕业论文\\codecoach\\.conda\\lib\\site-packages (from streamlit) (4.12.2)\n",
      "Collecting watchdog<7,>=2.1.5 (from streamlit)\n",
      "  Downloading https://mirrors.aliyun.com/pypi/packages/db/d9/c495884c6e548fce18a8f40568ff120bc3a4b7b99813081c8ac0c936fa64/watchdog-6.0.0-py3-none-win_amd64.whl (79 kB)\n",
      "Collecting gitpython!=3.1.19,<4,>=3.0.7 (from streamlit)\n",
      "  Downloading https://mirrors.aliyun.com/pypi/packages/1d/9a/4114a9057db2f1462d5c8f8390ab7383925fe1ac012eaa42402ad65c2963/GitPython-3.1.44-py3-none-any.whl (207 kB)\n",
      "Collecting pydeck<1,>=0.8.0b4 (from streamlit)\n",
      "  Downloading https://mirrors.aliyun.com/pypi/packages/ab/4c/b888e6cf58bd9db9c93f40d1c6be8283ff49d88919231afe93a6bcf61626/pydeck-0.9.1-py2.py3-none-any.whl (6.9 MB)\n",
      "     ---------------------------------------- 0.0/6.9 MB ? eta -:--:--\n",
      "     - -------------------------------------- 0.3/6.9 MB ? eta -:--:--\n",
      "     ---- ----------------------------------- 0.8/6.9 MB 2.6 MB/s eta 0:00:03\n",
      "     --------- ------------------------------ 1.6/6.9 MB 2.7 MB/s eta 0:00:02\n",
      "     ------------ --------------------------- 2.1/6.9 MB 2.8 MB/s eta 0:00:02\n",
      "     --------------- ------------------------ 2.6/6.9 MB 2.6 MB/s eta 0:00:02\n",
      "     ---------------- ----------------------- 2.9/6.9 MB 2.4 MB/s eta 0:00:02\n",
      "     ------------------- -------------------- 3.4/6.9 MB 2.4 MB/s eta 0:00:02\n",
      "     --------------------- ------------------ 3.7/6.9 MB 2.4 MB/s eta 0:00:02\n",
      "     ------------------------ --------------- 4.2/6.9 MB 2.3 MB/s eta 0:00:02\n",
      "     --------------------------- ------------ 4.7/6.9 MB 2.2 MB/s eta 0:00:01\n",
      "     ---------------------------- ----------- 5.0/6.9 MB 2.2 MB/s eta 0:00:01\n",
      "     ------------------------------- -------- 5.5/6.9 MB 2.2 MB/s eta 0:00:01\n",
      "     ---------------------------------- ----- 6.0/6.9 MB 2.2 MB/s eta 0:00:01\n",
      "     ------------------------------------- -- 6.6/6.9 MB 2.3 MB/s eta 0:00:01\n",
      "     ---------------------------------------- 6.9/6.9 MB 2.2 MB/s eta 0:00:00\n",
      "Requirement already satisfied: tornado<7,>=6.0.3 in d:\\毕业论文\\codecoach\\.conda\\lib\\site-packages (from streamlit) (6.4.2)\n",
      "Collecting jinja2 (from altair<6,>=4.0->streamlit)\n",
      "  Downloading https://mirrors.aliyun.com/pypi/packages/bd/0f/2ba5fbcd631e3e88689309dbe978c5769e883e4b84ebfe7da30b43275c5a/jinja2-3.1.5-py3-none-any.whl (134 kB)\n",
      "Collecting jsonschema>=3.0 (from altair<6,>=4.0->streamlit)\n",
      "  Downloading https://mirrors.aliyun.com/pypi/packages/69/4a/4f9dbeb84e8850557c02365a0eee0649abe5eb1d84af92a25731c6c0f922/jsonschema-4.23.0-py3-none-any.whl (88 kB)\n",
      "Collecting narwhals>=1.14.2 (from altair<6,>=4.0->streamlit)\n",
      "  Downloading https://mirrors.aliyun.com/pypi/packages/7f/0c/66a308d86c5607a2538401602875c146ae967d69e0118f579be07386cc40/narwhals-1.25.2-py3-none-any.whl (305 kB)\n",
      "Requirement already satisfied: colorama in d:\\毕业论文\\codecoach\\.conda\\lib\\site-packages (from click<9,>=7.0->streamlit) (0.4.6)\n",
      "Collecting gitdb<5,>=4.0.1 (from gitpython!=3.1.19,<4,>=3.0.7->streamlit)\n",
      "  Downloading https://mirrors.aliyun.com/pypi/packages/a0/61/5c78b91c3143ed5c14207f463aecfc8f9dbb5092fb2869baf37c273b2705/gitdb-4.0.12-py3-none-any.whl (62 kB)\n",
      "Requirement already satisfied: python-dateutil>=2.8.2 in d:\\毕业论文\\codecoach\\.conda\\lib\\site-packages (from pandas<3,>=1.4.0->streamlit) (2.9.0.post0)\n",
      "Collecting pytz>=2020.1 (from pandas<3,>=1.4.0->streamlit)\n",
      "  Downloading https://mirrors.aliyun.com/pypi/packages/eb/38/ac33370d784287baa1c3d538978b5e2ea064d4c1b93ffbd12826c190dd10/pytz-2025.1-py2.py3-none-any.whl (507 kB)\n",
      "Collecting tzdata>=2022.7 (from pandas<3,>=1.4.0->streamlit)\n",
      "  Downloading https://mirrors.aliyun.com/pypi/packages/0f/dd/84f10e23edd882c6f968c21c2434fe67bd4a528967067515feca9e611e5e/tzdata-2025.1-py2.py3-none-any.whl (346 kB)\n",
      "Requirement already satisfied: charset-normalizer<4,>=2 in d:\\毕业论文\\codecoach\\.conda\\lib\\site-packages (from requests<3,>=2.27->streamlit) (3.4.1)\n",
      "Requirement already satisfied: idna<4,>=2.5 in d:\\毕业论文\\codecoach\\.conda\\lib\\site-packages (from requests<3,>=2.27->streamlit) (3.10)\n",
      "Requirement already satisfied: urllib3<3,>=1.21.1 in d:\\毕业论文\\codecoach\\.conda\\lib\\site-packages (from requests<3,>=2.27->streamlit) (2.3.0)\n",
      "Requirement already satisfied: certifi>=2017.4.17 in d:\\毕业论文\\codecoach\\.conda\\lib\\site-packages (from requests<3,>=2.27->streamlit) (2024.12.14)\n",
      "Requirement already satisfied: markdown-it-py>=2.2.0 in d:\\毕业论文\\codecoach\\.conda\\lib\\site-packages (from rich<14,>=10.14.0->streamlit) (3.0.0)\n",
      "Requirement already satisfied: pygments<3.0.0,>=2.13.0 in d:\\毕业论文\\codecoach\\.conda\\lib\\site-packages (from rich<14,>=10.14.0->streamlit) (2.19.1)\n",
      "Collecting smmap<6,>=3.0.1 (from gitdb<5,>=4.0.1->gitpython!=3.1.19,<4,>=3.0.7->streamlit)\n",
      "  Downloading https://mirrors.aliyun.com/pypi/packages/04/be/d09147ad1ec7934636ad912901c5fd7667e1c858e19d355237db0d0cd5e4/smmap-5.0.2-py3-none-any.whl (24 kB)\n",
      "Collecting MarkupSafe>=2.0 (from jinja2->altair<6,>=4.0->streamlit)\n",
      "  Downloading https://mirrors.aliyun.com/pypi/packages/da/b8/3a3bd761922d416f3dc5d00bfbed11f66b1ab89a0c2b6e887240a30b0f6b/MarkupSafe-3.0.2-cp311-cp311-win_amd64.whl (15 kB)\n",
      "Requirement already satisfied: attrs>=22.2.0 in d:\\毕业论文\\codecoach\\.conda\\lib\\site-packages (from jsonschema>=3.0->altair<6,>=4.0->streamlit) (24.3.0)\n",
      "Collecting jsonschema-specifications>=2023.03.6 (from jsonschema>=3.0->altair<6,>=4.0->streamlit)\n",
      "  Downloading https://mirrors.aliyun.com/pypi/packages/d1/0f/8910b19ac0670a0f80ce1008e5e751c4a57e14d2c4c13a482aa6079fa9d6/jsonschema_specifications-2024.10.1-py3-none-any.whl (18 kB)\n",
      "Collecting referencing>=0.28.4 (from jsonschema>=3.0->altair<6,>=4.0->streamlit)\n",
      "  Downloading https://mirrors.aliyun.com/pypi/packages/c1/b1/3baf80dc6d2b7bc27a95a67752d0208e410351e3feb4eb78de5f77454d8d/referencing-0.36.2-py3-none-any.whl (26 kB)\n",
      "Collecting rpds-py>=0.7.1 (from jsonschema>=3.0->altair<6,>=4.0->streamlit)\n",
      "  Downloading https://mirrors.aliyun.com/pypi/packages/b8/1b/c29b570bc5db8237553002788dc734d6bd71443a2ceac2a58202ec06ef12/rpds_py-0.22.3-cp311-cp311-win_amd64.whl (231 kB)\n",
      "Requirement already satisfied: mdurl~=0.1 in d:\\毕业论文\\codecoach\\.conda\\lib\\site-packages (from markdown-it-py>=2.2.0->rich<14,>=10.14.0->streamlit) (0.1.2)\n",
      "Requirement already satisfied: six>=1.5 in d:\\毕业论文\\codecoach\\.conda\\lib\\site-packages (from python-dateutil>=2.8.2->pandas<3,>=1.4.0->streamlit) (1.17.0)\n",
      "Installing collected packages: pytz, watchdog, tzdata, toml, smmap, rpds-py, pyarrow, pillow, narwhals, MarkupSafe, blinker, referencing, pandas, jinja2, gitdb, pydeck, jsonschema-specifications, gitpython, jsonschema, altair, streamlit\n",
      "Successfully installed MarkupSafe-3.0.2 altair-5.5.0 blinker-1.9.0 gitdb-4.0.12 gitpython-3.1.44 jinja2-3.1.5 jsonschema-4.23.0 jsonschema-specifications-2024.10.1 narwhals-1.25.2 pandas-2.2.3 pillow-11.1.0 pyarrow-19.0.0 pydeck-0.9.1 pytz-2025.1 referencing-0.36.2 rpds-py-0.22.3 smmap-5.0.2 streamlit-1.42.0 toml-0.10.2 tzdata-2025.1 watchdog-6.0.0\n",
      "Note: you may need to restart the kernel to use updated packages.\n",
      "Looking in indexes: https://mirrors.aliyun.com/pypi/simple/\n",
      "Collecting duckduckgo-search\n",
      "  Downloading https://mirrors.aliyun.com/pypi/packages/50/3d/ff57423bc7fc2c6e1f3fe6205cd08b6ffecb8b293af950d221a9e522b2f9/duckduckgo_search-7.3.2-py3-none-any.whl (19 kB)\n",
      "Requirement already satisfied: click>=8.1.8 in d:\\毕业论文\\codecoach\\.conda\\lib\\site-packages (from duckduckgo-search) (8.1.8)\n",
      "Collecting primp>=0.11.0 (from duckduckgo-search)\n",
      "  Downloading https://mirrors.aliyun.com/pypi/packages/1b/7c/bed5d60edacc98c029c4934d6e839d718b123effb966b7e960b5d7d172e1/primp-0.12.0-cp38-abi3-win_amd64.whl (3.1 MB)\n",
      "     ---------------------------------------- 0.0/3.1 MB ? eta -:--:--\n",
      "     --- ------------------------------------ 0.3/3.1 MB ? eta -:--:--\n",
      "     --- ------------------------------------ 0.3/3.1 MB ? eta -:--:--\n",
      "     ------ --------------------------------- 0.5/3.1 MB 882.6 kB/s eta 0:00:03\n",
      "     ---------- ----------------------------- 0.8/3.1 MB 987.4 kB/s eta 0:00:03\n",
      "     ------------- -------------------------- 1.0/3.1 MB 1.0 MB/s eta 0:00:03\n",
      "     ---------------- ----------------------- 1.3/3.1 MB 1.2 MB/s eta 0:00:02\n",
      "     ----------------------- ---------------- 1.8/3.1 MB 1.3 MB/s eta 0:00:01\n",
      "     -------------------------- ------------- 2.1/3.1 MB 1.3 MB/s eta 0:00:01\n",
      "     --------------------------------- ------ 2.6/3.1 MB 1.4 MB/s eta 0:00:01\n",
      "     ------------------------------------- -- 2.9/3.1 MB 1.4 MB/s eta 0:00:01\n",
      "     ---------------------------------------- 3.1/3.1 MB 1.4 MB/s eta 0:00:00\n",
      "Collecting lxml>=5.3.0 (from duckduckgo-search)\n",
      "  Downloading https://mirrors.aliyun.com/pypi/packages/c3/b5/91c2249bfac02ee514ab135e9304b89d55967be7e53e94a879b74eec7a5c/lxml-5.3.0-cp311-cp311-win_amd64.whl (3.8 MB)\n",
      "     ---------------------------------------- 0.0/3.8 MB ? eta -:--:--\n",
      "     -- ------------------------------------- 0.3/3.8 MB ? eta -:--:--\n",
      "     ----- ---------------------------------- 0.5/3.8 MB 2.1 MB/s eta 0:00:02\n",
      "     ---------- ----------------------------- 1.0/3.8 MB 1.7 MB/s eta 0:00:02\n",
      "     ------------- -------------------------- 1.3/3.8 MB 1.7 MB/s eta 0:00:02\n",
      "     ------------------- -------------------- 1.8/3.8 MB 1.8 MB/s eta 0:00:02\n",
      "     --------------------- ------------------ 2.1/3.8 MB 1.8 MB/s eta 0:00:01\n",
      "     ------------------------ --------------- 2.4/3.8 MB 1.8 MB/s eta 0:00:01\n",
      "     ------------------------------ --------- 2.9/3.8 MB 1.7 MB/s eta 0:00:01\n",
      "     -------------------------------- ------- 3.1/3.8 MB 1.7 MB/s eta 0:00:01\n",
      "     ----------------------------------- ---- 3.4/3.8 MB 1.7 MB/s eta 0:00:01\n",
      "     ---------------------------------------- 3.8/3.8 MB 1.7 MB/s eta 0:00:00\n",
      "Requirement already satisfied: colorama in d:\\毕业论文\\codecoach\\.conda\\lib\\site-packages (from click>=8.1.8->duckduckgo-search) (0.4.6)\n",
      "Installing collected packages: primp, lxml, duckduckgo-search\n",
      "Successfully installed duckduckgo-search-7.3.2 lxml-5.3.0 primp-0.12.0\n",
      "Note: you may need to restart the kernel to use updated packages.\n"
     ]
    }
   ],
   "source": [
    "%pip install streamlit -i https://mirrors.aliyun.com/pypi/simple/\n",
    "%pip install duckduckgo-search -i https://mirrors.aliyun.com/pypi/simple/"
   ]
  },
  {
   "cell_type": "code",
   "execution_count": null,
   "metadata": {},
   "outputs": [],
   "source": [
    "import streamlit as st"
   ]
  },
  {
   "cell_type": "code",
   "execution_count": 2,
   "metadata": {},
   "outputs": [
    {
     "data": {
      "text/plain": [
       "True"
      ]
     },
     "execution_count": 2,
     "metadata": {},
     "output_type": "execute_result"
    }
   ],
   "source": [
    "from dotenv import load_dotenv\n",
    "load_dotenv()"
   ]
  },
  {
   "cell_type": "code",
   "execution_count": 3,
   "metadata": {},
   "outputs": [],
   "source": [
    "from langchain_core.prompts import ChatPromptTemplate\n",
    "from langchain_core.output_parsers import StrOutputParser\n",
    "from langchain_openai import ChatOpenAI"
   ]
  },
  {
   "cell_type": "code",
   "execution_count": null,
   "metadata": {},
   "outputs": [],
   "source": [
    "st.title('编程教练-生成题目')"
   ]
  },
  {
   "cell_type": "markdown",
   "metadata": {},
   "source": [
    "设定系统上下文，构建提示词"
   ]
  },
  {
   "cell_type": "code",
   "execution_count": 9,
   "metadata": {},
   "outputs": [],
   "source": [
    "template=\"\"\"请扮演一位资深的编程教练，您将负责为学生生成程算法题目，确保题目符合学生编程水平。\n",
    "        1. 根据学生提供的知识点以及学生的编程水平满分为100，分析其相关性和难度。\n",
    "        2. 确定与该知识点相关的一个经典编程题型，包括但不限于算法、数据结构、系统设计等方面。\n",
    "        3. 为经典题型提供简要描述，确保描述清晰易懂。\n",
    "        4. 输出的内容应包括题目名称、题目描述、输入输出要求及示例。\n",
    "        5. 根据学生的回答代码进行分析，对编程水平进行加减，主要是针对本题目涉及的算法进行评分，细节上的错误仅做提示，并针对代码提出建议。\n",
    "        6. 确保提供的建议不包括具体代码。\"\"\"\n",
    "prompt= ChatPromptTemplate.from_messages([(\"system\",template),\n",
    "                                          (\"human\",\"{input}\")])"
   ]
  },
  {
   "cell_type": "markdown",
   "metadata": {},
   "source": [
    "待更新 \n",
    "实例选择器，从实例存储库中根据规则筛选合适的few shot示例并插入提示词，帮助模型更快地学习，理解用户需求"
   ]
  },
  {
   "cell_type": "markdown",
   "metadata": {},
   "source": [
    "通过openai加载Qwen对话补全模型"
   ]
  },
  {
   "cell_type": "code",
   "execution_count": 10,
   "metadata": {},
   "outputs": [],
   "source": [
    "model=ChatOpenAI(model=\"gpt-4o-mini\")"
   ]
  },
  {
   "cell_type": "markdown",
   "metadata": {},
   "source": [
    "通过LCEL构建调用链并执行，得到文本输出"
   ]
  },
  {
   "cell_type": "code",
   "execution_count": null,
   "metadata": {},
   "outputs": [
    {
     "data": {
      "text/plain": [
       "'### 题目名称：二叉树的前序遍历\\n\\n#### 题目描述：\\n给定一个二叉树，要求实现其前序遍历（先访问根节点，再访问左子树，最后访问右子树）。你需要编写一个函数来实现这个遍历，并返回遍历结果的列表。\\n\\n#### 输入输出要求：\\n- 输入：二叉树的根节点（类型为 TreeNode，包含 val, left, right 属性）\\n- 输出：返回一个列表，包含前序遍历的各个节点值\\n\\n#### 示例：\\n```python\\n输入：\\n    1\\n   / \\\\\\n  2   3\\n /\\n4\\n\\n对应的树结构为：\\n      1\\n     / \\\\\\n    2   3\\n   /\\n  4\\n\\n输出： [1, 2, 4, 3]\\n```\\n\\n### 分析与建议\\n当你完成这个题目后，我将根据你的代码给出分析和评分。请确保代码清晰并遵循你所学的编程习惯。\\n\\n1. **注意事项**：\\n   - 递归与非递归两种方式都可以完成前序遍历，选择你熟悉的方式。\\n   - 请确保你能正确创建和使用树节点。\\n\\n2. **评分标准**：\\n   - 正确性（主要针对遍历算法的实现）\\n   - 代码结构与清晰度\\n   - 处理边界条件的能力（如空树）\\n\\n写完代码后，把它给我，我会根据表现给予反馈和评分！'"
      ]
     },
     "execution_count": 11,
     "metadata": {},
     "output_type": "execute_result"
    }
   ],
   "source": [
    "chain=prompt|model|StrOutputParser()"
   ]
  },
  {
   "cell_type": "code",
   "execution_count": null,
   "metadata": {},
   "outputs": [],
   "source": [
    "with st.form(key='my_form'):\n",
    "    input = st.text_input(label='输入知识点和学生编程水平')\n",
    "    submit_button = st.form_submit_button(label='生成题目')"
   ]
  },
  {
   "cell_type": "code",
   "execution_count": null,
   "metadata": {},
   "outputs": [],
   "source": [
    "chain.invoke({\"input\":\"二叉树遍历\"})"
   ]
  },
  {
   "cell_type": "markdown",
   "metadata": {},
   "source": [
    "审查链路结构"
   ]
  },
  {
   "cell_type": "code",
   "execution_count": null,
   "metadata": {},
   "outputs": [
    {
     "data": {
      "text/plain": [
       "<bound method Graph.print_ascii of Graph(nodes={'f3c5407751074effb2a9d39de443e544': Node(id='f3c5407751074effb2a9d39de443e544', name='PromptInput', data=<class 'langchain_core.utils.pydantic.PromptInput'>, metadata=None), 'db014a5102b8404daa5b610067c15d03': Node(id='db014a5102b8404daa5b610067c15d03', name='ChatPromptTemplate', data=ChatPromptTemplate(input_variables=['input'], input_types={}, partial_variables={}, messages=[SystemMessagePromptTemplate(prompt=PromptTemplate(input_variables=[], input_types={}, partial_variables={}, template='请扮演一位资深的编程教练，您将负责为学生仔细分析程序题目，确保理解其需求和目标。\\n        引导学生逐步构建代码，编程语言为python。\\n        提供大致的代码结构建议，鼓励学生一步步思考代码的逻辑流程，确保不直接给出具体的思路，帮助他们识别潜在的错误和优化点。\\n        根据题目分析涉及的知识点，如算法或语言结构，并对知识点进行详细讲解，比如通过举例或使用伪代码构建算法框架。\\n        在学生完成代码后，提供反馈和建议，帮助他们进一步改进代码质量。'), additional_kwargs={}), HumanMessagePromptTemplate(prompt=PromptTemplate(input_variables=['input'], input_types={}, partial_variables={}, template='{input}'), additional_kwargs={})]), metadata=None), '0a18c9cd227d4c0bbb251f914a783d44': Node(id='0a18c9cd227d4c0bbb251f914a783d44', name='ChatOpenAI', data=ChatOpenAI(client=<openai.resources.chat.completions.Completions object at 0x000001B8C9866DD0>, async_client=<openai.resources.chat.completions.AsyncCompletions object at 0x000001B8CC8A5310>, root_client=<openai.OpenAI object at 0x000001B8C9864990>, root_async_client=<openai.AsyncOpenAI object at 0x000001B8CC894FD0>, model_name='gpt-4o-mini', model_kwargs={}, openai_api_key=SecretStr('**********'), openai_api_base='https://api.openai.com/v1/'), metadata=None), '046206ab23d14ca3996f182eb66e93e7': Node(id='046206ab23d14ca3996f182eb66e93e7', name='StrOutputParser', data=StrOutputParser(), metadata=None), '15bfda6605884ba2a577a3b6654782c0': Node(id='15bfda6605884ba2a577a3b6654782c0', name='StrOutputParserOutput', data=<class 'langchain_core.output_parsers.string.StrOutputParserOutput'>, metadata=None)}, edges=[Edge(source='f3c5407751074effb2a9d39de443e544', target='db014a5102b8404daa5b610067c15d03', data=None, conditional=False), Edge(source='db014a5102b8404daa5b610067c15d03', target='0a18c9cd227d4c0bbb251f914a783d44', data=None, conditional=False), Edge(source='046206ab23d14ca3996f182eb66e93e7', target='15bfda6605884ba2a577a3b6654782c0', data=None, conditional=False), Edge(source='0a18c9cd227d4c0bbb251f914a783d44', target='046206ab23d14ca3996f182eb66e93e7', data=None, conditional=False)])>"
      ]
     },
     "execution_count": 7,
     "metadata": {},
     "output_type": "execute_result"
    }
   ],
   "source": [
    "#chain.get_graph().print_ascii"
   ]
  }
 ],
 "metadata": {
  "kernelspec": {
   "display_name": "Python 3",
   "language": "python",
   "name": "python3"
  },
  "language_info": {
   "codemirror_mode": {
    "name": "ipython",
    "version": 3
   },
   "file_extension": ".py",
   "mimetype": "text/x-python",
   "name": "python",
   "nbconvert_exporter": "python",
   "pygments_lexer": "ipython3",
   "version": "3.11.11"
  }
 },
 "nbformat": 4,
 "nbformat_minor": 2
}
